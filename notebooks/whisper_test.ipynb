{
 "cells": [
  {
   "cell_type": "markdown",
   "metadata": {},
   "source": [
    "# Implementing Whisper functionality"
   ]
  },
  {
   "cell_type": "code",
   "execution_count": 1,
   "metadata": {},
   "outputs": [],
   "source": [
    "import whisper"
   ]
  },
  {
   "cell_type": "markdown",
   "metadata": {},
   "source": [
    "## Loading the models"
   ]
  },
  {
   "cell_type": "code",
   "execution_count": 4,
   "metadata": {},
   "outputs": [],
   "source": [
    "model_base = whisper.load_model(\"base\")"
   ]
  },
  {
   "cell_type": "code",
   "execution_count": null,
   "metadata": {},
   "outputs": [],
   "source": [
    "model_tiny = whisper.load_model(\"tiny\")"
   ]
  },
  {
   "cell_type": "code",
   "execution_count": null,
   "metadata": {},
   "outputs": [],
   "source": [
    "file_name = \"../data/audio/Car Radio  - Twenty One Pilots LYRICS.mp3\""
   ]
  },
  {
   "cell_type": "markdown",
   "metadata": {},
   "source": [
    "# Transcribing the test audio"
   ]
  },
  {
   "cell_type": "code",
   "execution_count": 6,
   "metadata": {},
   "outputs": [
    {
     "name": "stderr",
     "output_type": "stream",
     "text": [
      "d:\\Anaconda\\Lib\\site-packages\\whisper\\transcribe.py:126: UserWarning: FP16 is not supported on CPU; using FP32 instead\n",
      "  warnings.warn(\"FP16 is not supported on CPU; using FP32 instead\")\n"
     ]
    },
    {
     "name": "stdout",
     "output_type": "stream",
     "text": [
      "Base model transcription:\n",
      " I ponder of something great, my lungs will fill in the endy fleet. They fill with fire, exhale, desire, I know it's dire my time today. I have these stats so often I add to replace that slot with what I want to buy, because somebody stole my car radio and now I just sit in silence. Sometimes quiet is violent. I find it hard to hide it, my pride is no longer inside, it's on my sleeve, my skin will scream reminding me of who I killed inside my dream, I hate this car that I'm driving, there's no hiding for me, I'm forced to deal with what I feel, there is no distraction to mess with as real. I could pull the steering wheel, I have these stats so often I add to replace that slot with what I want to buy, because somebody stole my car radio and now I just sit in silence. I ponder of something terrifying, because there's time there's no sound to hide behind, to find over the course of a human existence, one thing consists of consistence and it's that we're all battling fear out dear, I don't know if we know why we hear oh my duty, please stop thinking, I liked it better when my car had sound, there were things we can do but from the things that work there are only two and from the two that we choose to do, peace will win and fear will lose it is faith and this sleep, we need to pick one please, because faith is to be awake and to be awake for us to think, if for us to think is to be alive and I will try with every rhyme to come across like I am dying to let you know you need to try to think, I have these stats so often I add to replace that slot with what I want to buy, because somebody stole my car radio and now I just sit in silence. Oh, oh, oh, oh, oh, oh, oh, oh, oh, oh, oh, oh, oh, oh, oh, oh, oh, oh, oh, oh, oh, oh, oh, oh, oh, oh, oh, oh, oh, oh, oh, oh, oh, oh, oh, oh, oh, oh, oh, oh, oh, oh, oh, oh, oh, oh, oh, oh, oh, oh, oh, oh, oh, oh, oh, oh, oh, oh, oh, oh, oh, oh, oh, oh, oh, oh, oh, oh, oh, oh, oh, oh, oh, oh, oh, oh, oh, oh, oh, oh, oh, oh, oh, oh, oh, oh, oh, oh, oh, oh, oh, oh, oh, oh, oh, oh, oh, oh, oh, oh, oh, oh, oh, oh, oh, oh, oh, oh, oh, oh, oh Oh, oh, oh, Turtle Fiend You know I just need a silence You know I just need a silence You know I just need a silence You know I just need a silence You know I just need a silence You know I just need a silence You know I just need a silence I find her something great My lungs will fill an empty plate They fill with fire exhaled desire I know it's dire my time today I have these knots so often I yacht To replace a slot with what that one's bought Because somebody stole my car radio And now I just sit in silence I'm going to be a little bit more quiet I'm going to be a little bit more quiet I'm going to be a little bit more quiet I'm going to be a little bit more quiet I'm going to be a little bit more quiet I'm going to be a little bit more quiet I'm going to be a little bit more quiet I'm going to be a little bit more quiet I'm going to be a little bit more quiet I'm going to be a little bit more quiet I'm going to be a little bit more quiet I'm going to be a little bit more quiet I'm going to be a little bit more quiet I'm going to be a little bit more quiet\n"
     ]
    }
   ],
   "source": [
    "# Transcribe using base model\n",
    "result_base = model_base.transcribe(file_name)\n",
    "print(\"Base model transcription:\")\n"
   ]
  },
  {
   "cell_type": "code",
   "execution_count": 7,
   "metadata": {},
   "outputs": [
    {
     "name": "stdout",
     "output_type": "stream",
     "text": [
      " I ponder of something great, my lungs will fill in the endy fleet. They fill with fire, exhale, desire, I know it's dire my time today. I have these stats so often I add to replace that slot with what I want to buy, because somebody stole my car radio and now I just sit in silence. Sometimes quiet is violent. I find it hard to hide it, my pride is no longer inside, it's on my sleeve, my skin will scream reminding me of who I killed inside my dream, I hate this car that I'm driving, there's no hiding for me, I'm forced to deal with what I feel, there is no distraction to mess with as real. I could pull the steering wheel, I have these stats so often I add to replace that slot with what I want to buy, because somebody stole my car radio and now I just sit in silence. I ponder of something terrifying, because there's time there's no sound to hide behind, to find over the course of a human existence, one thing consists of consistence and it's that we're all battling fear out dear, I don't know if we know why we hear oh my duty, please stop thinking, I liked it better when my car had sound, there were things we can do but from the things that work there are only two and from the two that we choose to do, peace will win and fear will lose it is faith and this sleep, we need to pick one please, because faith is to be awake and to be awake for us to think, if for us to think is to be alive and I will try with every rhyme to come across like I am dying to let you know you need to try to think, I have these stats so often I add to replace that slot with what I want to buy, because somebody stole my car radio and now I just sit in silence. Oh, oh, oh, oh, oh, oh, oh, oh, oh, oh, oh, oh, oh, oh, oh, oh, oh, oh, oh, oh, oh, oh, oh, oh, oh, oh, oh, oh, oh, oh, oh, oh, oh, oh, oh, oh, oh, oh, oh, oh, oh, oh, oh, oh, oh, oh, oh, oh, oh, oh, oh, oh, oh, oh, oh, oh, oh, oh, oh, oh, oh, oh, oh, oh, oh, oh, oh, oh, oh, oh, oh, oh, oh, oh, oh, oh, oh, oh, oh, oh, oh, oh, oh, oh, oh, oh, oh, oh, oh, oh, oh, oh, oh, oh, oh, oh, oh, oh, oh, oh, oh, oh, oh, oh, oh, oh, oh, oh, oh, oh, oh Oh, oh, oh, Turtle Fiend You know I just need a silence You know I just need a silence You know I just need a silence You know I just need a silence You know I just need a silence You know I just need a silence You know I just need a silence I find her something great My lungs will fill an empty plate They fill with fire exhaled desire I know it's dire my time today I have these knots so often I yacht To replace a slot with what that one's bought Because somebody stole my car radio And now I just sit in silence I'm going to be a little bit more quiet I'm going to be a little bit more quiet I'm going to be a little bit more quiet I'm going to be a little bit more quiet I'm going to be a little bit more quiet I'm going to be a little bit more quiet I'm going to be a little bit more quiet I'm going to be a little bit more quiet I'm going to be a little bit more quiet I'm going to be a little bit more quiet I'm going to be a little bit more quiet I'm going to be a little bit more quiet I'm going to be a little bit more quiet I'm going to be a little bit more quiet\n"
     ]
    }
   ],
   "source": [
    "# Save base model transcription to file\n",
    "with open(\"../data/transcripts/base_model_transcript.txt\", \"w\", encoding=\"utf-8\") as f:\n",
    "    f.write(result_base[\"text\"])\n",
    "\n",
    "print(result_base[\"text\"])"
   ]
  },
  {
   "cell_type": "code",
   "execution_count": null,
   "metadata": {},
   "outputs": [],
   "source": [
    "\n",
    "# Transcribe using tiny model \n",
    "result_tiny = model_tiny.transcribe(file_name)\n",
    "print(\"\\nTiny model transcription:\")\n",
    "print(result_tiny[\"text\"])\n",
    "\n",
    "# Save tiny model transcription to file\n",
    "with open(\"../data/transcripts/tiny_model_transcript.txt\", \"w\", encoding=\"utf-8\") as f:\n",
    "    f.write(result_tiny[\"text\"])\n"
   ]
  }
 ],
 "metadata": {
  "kernelspec": {
   "display_name": "Python 3",
   "language": "python",
   "name": "python3"
  },
  "language_info": {
   "codemirror_mode": {
    "name": "ipython",
    "version": 3
   },
   "file_extension": ".py",
   "mimetype": "text/x-python",
   "name": "python",
   "nbconvert_exporter": "python",
   "pygments_lexer": "ipython3",
   "version": "3.11.5"
  }
 },
 "nbformat": 4,
 "nbformat_minor": 2
}
