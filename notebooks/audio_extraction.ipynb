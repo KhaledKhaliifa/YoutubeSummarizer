{
 "cells": [
  {
   "cell_type": "markdown",
   "metadata": {},
   "source": [
    "# Implementing the functionality of the audio extraction\n"
   ]
  },
  {
   "cell_type": "code",
   "execution_count": 1,
   "metadata": {},
   "outputs": [],
   "source": [
    "import ffmpeg"
   ]
  },
  {
   "cell_type": "markdown",
   "metadata": {},
   "source": [
    "## Loading the video"
   ]
  },
  {
   "cell_type": "code",
   "execution_count": 14,
   "metadata": {},
   "outputs": [],
   "source": [
    "video_name = 'test'\n",
    "input_path = f'../data/raw_videos/{video_name}.mp4'\n",
    "output_path = f'../data/audio/{video_name}.mp3'"
   ]
  },
  {
   "cell_type": "code",
   "execution_count": 15,
   "metadata": {},
   "outputs": [
    {
     "name": "stdout",
     "output_type": "stream",
     "text": [
      "Successfully extracted audio to: ../data/audio/test.mp3\n"
     ]
    }
   ],
   "source": [
    "# This might not work as expected, if it returns an error \"The system cannot find the file specified\"\n",
    "# Add ffpmeg.exe to the same folder as the python.exe in this environment\n",
    "try:\n",
    "    stream = ffmpeg.input(input_path)\n",
    "    stream = ffmpeg.output(stream, f\"{output_path}\")\n",
    "    ffmpeg.run(stream, overwrite_output=True)\n",
    "    print(f\"Successfully extracted audio to: {output_path}\")\n",
    "except ffmpeg.Error as e:\n",
    "    print(f\"An error occurred: {e.stderr.decode()}\")"
   ]
  },
  {
   "cell_type": "code",
   "execution_count": null,
   "metadata": {},
   "outputs": [],
   "source": []
  }
 ],
 "metadata": {
  "kernelspec": {
   "display_name": "Python 3",
   "language": "python",
   "name": "python3"
  },
  "language_info": {
   "codemirror_mode": {
    "name": "ipython",
    "version": 3
   },
   "file_extension": ".py",
   "mimetype": "text/x-python",
   "name": "python",
   "nbconvert_exporter": "python",
   "pygments_lexer": "ipython3",
   "version": "3.11.5"
  }
 },
 "nbformat": 4,
 "nbformat_minor": 2
}
