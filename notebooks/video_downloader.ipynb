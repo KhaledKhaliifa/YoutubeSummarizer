{
 "cells": [
  {
   "cell_type": "markdown",
   "metadata": {},
   "source": [
    "# This is to test the functionality of the video downloader"
   ]
  },
  {
   "cell_type": "code",
   "execution_count": 5,
   "metadata": {},
   "outputs": [],
   "source": [
    "from pytubefix import YouTube"
   ]
  },
  {
   "cell_type": "markdown",
   "metadata": {},
   "source": [
    "## Initializing variables"
   ]
  },
  {
   "cell_type": "code",
   "execution_count": 10,
   "metadata": {},
   "outputs": [],
   "source": [
    "# where to save \n",
    "SAVE_PATH = \"../data/raw_videos\"\n",
    "\n",
    "# link of the video to be downloaded \n",
    "link = \"https://www.youtube.com/watch?v=iWnzjdM7n20\"\n"
   ]
  },
  {
   "cell_type": "code",
   "execution_count": 11,
   "metadata": {},
   "outputs": [
    {
     "name": "stdout",
     "output_type": "stream",
     "text": [
      "Video downloaded successfully!\n"
     ]
    }
   ],
   "source": [
    "try: \n",
    "    # object creation using YouTube \n",
    "    yt = YouTube(link) \n",
    "except Exception as e: \n",
    "    #to handle exception \n",
    "    print(\"Connection Error\")\n",
    "    print(e) \n",
    "\n",
    "# Get all streams and filter for mp4 files\n",
    "mp4_streams = yt.streams.filter(progressive=True, res='360p').first()\n",
    "\n",
    "\n",
    "try: \n",
    "    # downloading the video \n",
    "    mp4_streams.download(output_path=SAVE_PATH)\n",
    "    print('Video downloaded successfully!')\n",
    "except: \n",
    "    print(\"Some Error!\")"
   ]
  },
  {
   "cell_type": "code",
   "execution_count": null,
   "metadata": {},
   "outputs": [],
   "source": []
  }
 ],
 "metadata": {
  "kernelspec": {
   "display_name": "Python 3",
   "language": "python",
   "name": "python3"
  },
  "language_info": {
   "codemirror_mode": {
    "name": "ipython",
    "version": 3
   },
   "file_extension": ".py",
   "mimetype": "text/x-python",
   "name": "python",
   "nbconvert_exporter": "python",
   "pygments_lexer": "ipython3",
   "version": "3.11.5"
  }
 },
 "nbformat": 4,
 "nbformat_minor": 2
}
